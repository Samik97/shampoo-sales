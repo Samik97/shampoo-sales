{
  "nbformat": 4,
  "nbformat_minor": 0,
  "metadata": {
    "colab": {
      "provenance": []
    },
    "kernelspec": {
      "name": "python3",
      "display_name": "Python 3"
    },
    "language_info": {
      "name": "python"
    }
  },
  "cells": [
    {
      "cell_type": "code",
      "source": [
        "import pandas as pd\n",
        "import numpy as np\n",
        "import matplotlib.pyplot as plt\n",
        "from statsmodels.tsa.holtwinters import ExponentialSmoothing\n",
        "\n",
        "\n",
        "# Load the dataset\n",
        "data = pd.read_csv('/content/sales-of-shampoo-over-a-three-ye.csv')\n"
      ],
      "metadata": {
        "id": "oyIOsOpj9fu_"
      },
      "execution_count": 10,
      "outputs": []
    },
    {
      "cell_type": "code",
      "source": [
        "# Check the data\n",
        "print(data.head())"
      ],
      "metadata": {
        "colab": {
          "base_uri": "https://localhost:8080/"
        },
        "id": "SXhzbsDVAFTK",
        "outputId": "ad196adb-cf7b-4ff0-db32-52d37a6a2db6"
      },
      "execution_count": 13,
      "outputs": [
        {
          "output_type": "stream",
          "name": "stdout",
          "text": [
            "    Month  Sales of shampoo over a three year period\n",
            "0  01-Jan                                      266.0\n",
            "1  01-Feb                                      145.9\n",
            "2  01-Mar                                      183.1\n",
            "3  01-Apr                                      119.3\n",
            "4  01-May                                      180.3\n"
          ]
        }
      ]
    },
    {
      "cell_type": "code",
      "source": [
        "# Convert 'Month' column to datetime format\n",
        "data['Month'] = pd.to_datetime(data['Month'], format='%d-%b')\n",
        "\n",
        "# Set a default year for consistency (you may adjust this based on your data)\n",
        "data['Month'] = data['Month'].apply(lambda x: x.replace(year=2024))\n"
      ],
      "metadata": {
        "id": "_RqFaiq9A3XK"
      },
      "execution_count": 14,
      "outputs": []
    },
    {
      "cell_type": "code",
      "source": [
        "# Set 'Month' column as index\n",
        "data.set_index('Month', inplace=True)\n",
        "\n",
        "# Check the data types and missing values\n",
        "print(data.info())\n"
      ],
      "metadata": {
        "colab": {
          "base_uri": "https://localhost:8080/"
        },
        "id": "hqXOAjz3A7Ei",
        "outputId": "a56b0833-6b84-43dd-a65d-3a129136560b"
      },
      "execution_count": 15,
      "outputs": [
        {
          "output_type": "stream",
          "name": "stdout",
          "text": [
            "<class 'pandas.core.frame.DataFrame'>\n",
            "DatetimeIndex: 36 entries, 2024-01-01 to 2024-12-03\n",
            "Data columns (total 1 columns):\n",
            " #   Column                                     Non-Null Count  Dtype  \n",
            "---  ------                                     --------------  -----  \n",
            " 0   Sales of shampoo over a three year period  36 non-null     float64\n",
            "dtypes: float64(1)\n",
            "memory usage: 576.0 bytes\n",
            "None\n"
          ]
        }
      ]
    },
    {
      "cell_type": "code",
      "source": [
        "from statsmodels.tsa.holtwinters import ExponentialSmoothing\n",
        "from sklearn.metrics import mean_absolute_error, mean_squared_error\n",
        "import numpy as np\n",
        "\n",
        "# Fit Holt-Winters model\n",
        "model = ExponentialSmoothing(data, seasonal='additive', seasonal_periods=12)\n",
        "fit_model = model.fit()"
      ],
      "metadata": {
        "colab": {
          "base_uri": "https://localhost:8080/"
        },
        "id": "uBGRnJosA-6C",
        "outputId": "f6934888-b3e2-4ef0-b819-2b2f04a909f1"
      },
      "execution_count": 16,
      "outputs": [
        {
          "output_type": "stream",
          "name": "stderr",
          "text": [
            "/usr/local/lib/python3.10/dist-packages/statsmodels/tsa/base/tsa_model.py:473: ValueWarning: A date index has been provided, but it has no associated frequency information and so will be ignored when e.g. forecasting.\n",
            "  self._init_dates(dates, freq)\n",
            "/usr/local/lib/python3.10/dist-packages/statsmodels/tsa/base/tsa_model.py:473: ValueWarning: A date index has been provided, but it is not monotonic and so will be ignored when e.g. forecasting.\n",
            "  self._init_dates(dates, freq)\n"
          ]
        }
      ]
    },
    {
      "cell_type": "code",
      "source": [
        "# Forecast for the next 12 months\n",
        "forecast = fit_model.forecast(12)\n",
        "\n",
        "# Print forecast\n",
        "print(forecast)"
      ],
      "metadata": {
        "colab": {
          "base_uri": "https://localhost:8080/"
        },
        "id": "RI1ciqDFBDFL",
        "outputId": "88552ccb-0144-40f5-ad6b-7fce8178bda0"
      },
      "execution_count": 17,
      "outputs": [
        {
          "output_type": "stream",
          "name": "stdout",
          "text": [
            "36    564.621310\n",
            "37    533.202665\n",
            "38    515.818852\n",
            "39    549.448654\n",
            "40    520.759841\n",
            "41    552.719838\n",
            "42    589.195098\n",
            "43    548.719832\n",
            "44    614.733082\n",
            "45    555.757191\n",
            "46    599.089405\n",
            "47    585.379565\n",
            "dtype: float64\n"
          ]
        },
        {
          "output_type": "stream",
          "name": "stderr",
          "text": [
            "/usr/local/lib/python3.10/dist-packages/statsmodels/tsa/base/tsa_model.py:836: ValueWarning: No supported index is available. Prediction results will be given with an integer index beginning at `start`.\n",
            "  return get_prediction_index(\n",
            "/usr/local/lib/python3.10/dist-packages/statsmodels/tsa/base/tsa_model.py:836: FutureWarning: No supported index is available. In the next version, calling this method in a model without a supported index will result in an exception.\n",
            "  return get_prediction_index(\n"
          ]
        }
      ]
    },
    {
      "cell_type": "code",
      "source": [
        "\n",
        "# Actual sales data for comparison\n",
        "actual_sales = data.iloc[-12:]"
      ],
      "metadata": {
        "id": "bdUZrp0EBHgx"
      },
      "execution_count": 18,
      "outputs": []
    },
    {
      "cell_type": "code",
      "source": [
        "# Calculate MAE, MSE, RMSE\n",
        "mae = mean_absolute_error(actual_sales, forecast)\n",
        "mse = mean_squared_error(actual_sales, forecast)\n",
        "rmse = np.sqrt(mse)\n",
        "\n",
        "print(\"Mean Absolute Error:\", mae)\n",
        "print(\"Mean Squared Error:\", mse)\n",
        "print(\"Root Mean Squared Error:\", rmse)"
      ],
      "metadata": {
        "colab": {
          "base_uri": "https://localhost:8080/"
        },
        "id": "-xR_zx6WBK3A",
        "outputId": "bf02dd91-138b-42b9-f561-ef81b78d03b6"
      },
      "execution_count": 19,
      "outputs": [
        {
          "output_type": "stream",
          "name": "stdout",
          "text": [
            "Mean Absolute Error: 103.70167002830856\n",
            "Mean Squared Error: 14506.109146095148\n",
            "Root Mean Squared Error: 120.44130996504127\n"
          ]
        }
      ]
    }
  ]
}